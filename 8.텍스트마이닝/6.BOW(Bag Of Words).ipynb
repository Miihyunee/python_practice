{
 "cells": [
  {
   "cell_type": "code",
   "execution_count": 1,
   "metadata": {},
   "outputs": [
    {
     "name": "stdout",
     "output_type": "stream",
     "text": [
      "{'비': 0, '가': 1, '오니': 2, '마음': 3, '이': 4, '차분해지네요': 5, '요즘': 6, '너무': 7, '더웠어요': 8, '기쁘네요': 9}\n"
     ]
    }
   ],
   "source": [
    "# Bag of Words(BoW) : 단어의 등장 순서를 고려하지 않는 빈도수 기반의 텍스트 데이터의 수치화 방법\n",
    "# 가방에 단어들을 넣으면 순서가 중요하지 않음\n",
    "# 각 단어에 고유한 인덱스를 부여하고\n",
    "# 각 인덱스의 위치에 단어의 출현 횟수를 저장\n",
    "\n",
    "from konlpy.tag import Okt\n",
    "import re  \n",
    "\n",
    "okt=Okt()  \n",
    "\n",
    "token=re.sub(\"[.!#~]\",\"\",\n",
    "\n",
    "             '비가 오니 마음이 차분해지네요. 요즘 너무 더웠어요. 비가 오니 마음이 기쁘네요.')\n",
    "\n",
    "# 형태소 분석\n",
    "\n",
    "token=okt.morphs(token)  \n",
    "word2index={}  # 단어 사전(단어와 숫자 인덱스)\n",
    "\n",
    "bow=[]  # 단어 가방(단어와 출현 횟수)\n",
    "\n",
    "for voca in token:  \n",
    "    # 사전에 없는 단어 추가\n",
    "\n",
    "    if voca not in word2index.keys():  \n",
    "        word2index[voca]=len(word2index)  \n",
    "        # 단어의 인덱스와 출현횟수(기본값:1)\n",
    "        bow.insert(len(word2index)-1,1)\n",
    "    else:\n",
    "        # 재등장하는 단어의 인덱스\n",
    "        index=word2index.get(voca)\n",
    "        # 단어 카운트 증가\n",
    "        bow[index]=bow[index]+1\n",
    "\n",
    "print(word2index)  "
   ]
  },
  {
   "cell_type": "code",
   "execution_count": 2,
   "metadata": {},
   "outputs": [
    {
     "name": "stdout",
     "output_type": "stream",
     "text": [
      "[2, 2, 2, 2, 2, 1, 1, 1, 1, 1]\n"
     ]
    }
   ],
   "source": [
    "# 단어의 출현 횟수\n",
    "\n",
    "print(bow)"
   ]
  },
  {
   "cell_type": "code",
   "execution_count": 3,
   "metadata": {},
   "outputs": [
    {
     "name": "stdout",
     "output_type": "stream",
     "text": [
      "{'모처럼': 1, '전국에': 4, '비가': 2, '내리고': 0, '있습니다': 3}\n",
      "[[0 0 1 0 1]]\n"
     ]
    }
   ],
   "source": [
    "from sklearn.feature_extraction.text import CountVectorizer\n",
    "\n",
    "# 문서 집합에서 단어 토큰을 생성하고 각 단어의 수를 세어 BOW 인코딩한 벡터를 만드는 클래스\n",
    "\n",
    "corpus=['모처럼 전국에 비가 내리고 있습니다.']\n",
    "line=['전국에 비가']\n",
    "\n",
    "vector = CountVectorizer()\n",
    "vector.fit(corpus)\n",
    "\n",
    "print(vector.vocabulary_)\n",
    "print(vector.transform(line).toarray()) # 단어가 출현한 위치에 출현빈도 표시"
   ]
  },
  {
   "cell_type": "code",
   "execution_count": 4,
   "metadata": {},
   "outputs": [
    {
     "name": "stdout",
     "output_type": "stream",
     "text": [
      "[[1 1 1 1 2 1 1 1 1 1 1 1 1 1 2 1 1 1 1 1 1 1 1]]\n",
      "{'모처럼': 7, '전국에': 18, '비가': 11, '내리고': 2, '있습니다': 16, '대부분': 3, '밤까지': 9, '계속되기': 1, '때문에': 4, '종일': 19, '우산이': 15, '필요하겠는데요': 22, '비의': 12, '양도': 13, '많고': 5, '바람도': 8, '강하게': 0, '불기': 10, '작은': 17, '우산': 14, '말고': 6, '챙기는': 21, '좋습니다': 20}\n"
     ]
    }
   ],
   "source": [
    "from sklearn.feature_extraction.text import CountVectorizer\n",
    "\n",
    "corpus = ['''모처럼 전국에 비가 내리고 있습니다.\n",
    "\n",
    "대부분 밤까지 계속되기 때문에 종일 우산이 필요하겠는데요.\n",
    "\n",
    "비의 양도 많고 바람도 강하게 불기 때문에 작은 우산 말고 큰 우산 챙기는 게 더 좋습니다. ''']\n",
    "\n",
    "# 문서 집합에서 단어 토큰을 생성하고 각 단어의 수를 세어 BOW 인코딩한 벡터를 만드는 클래스\n",
    "\n",
    "vector = CountVectorizer()\n",
    "\n",
    "# 코퍼스로부터 각 단어의 빈도수 계산\n",
    "\n",
    "# 단어들의 출현 횟수\n",
    "\n",
    "print(vector.fit_transform(corpus).toarray())  \n",
    "\n",
    "# 만들어진 단어와 인덱스\n",
    "\n",
    "print(vector.vocabulary_)"
   ]
  },
  {
   "cell_type": "code",
   "execution_count": 5,
   "metadata": {},
   "outputs": [
    {
     "data": {
      "text/plain": [
       "['다음 달 경기도 성남시 공원 치킨 등 주문 드론 이 배달 서비스 시작 성남시 탄천 물놀이 이용 시민 편의 위해 드론 활용 배송 유료 서비스 전국 최초 시작 고 유료 드론 배송 곳 분당 탄천 내 금곡 공원 임시 물놀이 구미동 물놀이 등 곳 탄천 잔디 공원 구미동 반려견 놀이터 등 배달 점 곳 중앙 공원 내 드론 배달 거점 및 배달 점 곳 추가 설치 더 시민 이용 수 계획 성남시 유료 드론 배송 서비스 국토교통부 성장 계획 드론 배송 상용 표준 모델 마련 드론 배송 상용 추진단 계해 진행 사업 국토교통부 공모 사업인 드론 실증 도시 구축 사업 성남시 최종 선정 추진 드론 배달 점 설치 물놀이 포함 성남 시내 개 도심 물놀이 지난달 일제 개장 연인원 이용 대표 터 자리 잡고 음식점 편의점 등 편의 시설 접근성 상황 탄천 차량 오토바이 배송 경우 산책 시민 사고 위험 지역 드론 하천 위 길 비행 서비스 드론 전용 웹 사업자 제로 랩 홈페이지 통해 주문 물품 정자동 주택 전시관 내 드론 배달 거점 도착 드론 적재 후 물놀이 배달 점 제품 배달 점 상공 투하 방식 물품 전달 배송 소요 시간 이내 전망 주문 수 품목 치킨 피자 커피 등 간식 음료 방수 기저귀 튜브 등 물놀이 용품 응급처치 세트 등 배 송료 시 안전성 사업 확보 위해 드론 배송 지침 준수 운영 방침 신상진 성남시장 이번 배송 사업 도심 안 전국 최초 소비자 드론 배송 이용 료 지급 첫 사례 한국 도심 드론 배송 상용 서비스 표준 모델 제시 차 산업 특별시 로서 성남시 위상 공고 것 말']"
      ]
     },
     "execution_count": 5,
     "metadata": {},
     "output_type": "execute_result"
    }
   ],
   "source": [
    "f=open('c:/data/text/news1.txt')\n",
    "\n",
    "corpus=f.read()\n",
    "\n",
    "txt=okt.nouns(corpus)\n",
    "\n",
    "txt2=[' '.join(txt)]\n",
    "\n",
    "txt2"
   ]
  },
  {
   "cell_type": "code",
   "execution_count": 6,
   "metadata": {},
   "outputs": [
    {
     "data": {
      "image/png": "[encoded data removed]",
      "text/plain": [
       "<Figure size 640x480 with 1 Axes>"
      ]
     },
     "metadata": {},
     "output_type": "display_data"
    },
    {
     "name": "stdout",
     "output_type": "stream",
     "text": [
      "[('드론', 16), ('배송', 11), ('배달', 8), ('물놀이', 7), ('서비스', 5), ('성남시', 5), ('공원', 4), ('사업', 4), ('이용', 4), ('탄천', 4), ('시민', 3), ('주문', 3), ('유료', 3), ('상용', 3), ('도심', 3), ('물품', 2), ('모델', 2), ('전국', 2), ('설치', 2), ('최초', 2), ('치킨', 2), ('거점', 2), ('편의', 2), ('국토교통부', 2), ('위해', 2), ('구미동', 2), ('표준', 2), ('시작', 2), ('계획', 2), ('적재', 1), ('이내', 1), ('제품', 1), ('제시', 1), ('제로', 1), ('정자동', 1), ('이번', 1), ('전시관', 1), ('전용', 1), ('일제', 1), ('전망', 1), ('전달', 1), ('임시', 1), ('자리', 1), ('잔디', 1), ('잡고', 1), ('접근성', 1), ('간식', 1), ('지침', 1), ('준수', 1), ('홈페이지', 1), ('한국', 1), ('하천', 1), ('피자', 1), ('품목', 1), ('포함', 1), ('편의점', 1), ('특별시', 1), ('튜브', 1), ('투하', 1), ('주택', 1), ('통해', 1), ('추진단', 1), ('추진', 1), ('추가', 1), ('최종', 1), ('차량', 1), ('진행', 1), ('지역', 1), ('지난달', 1), ('지급', 1), ('중앙', 1), ('커피', 1), ('응급처치', 1), ('안전성', 1), ('음료', 1), ('사고', 1), ('비행', 1), ('분당', 1), ('방침', 1), ('방식', 1), ('방수', 1), ('반려견', 1), ('마련', 1), ('로서', 1), ('도착', 1), ('도시', 1), ('대표', 1), ('다음', 1), ('놀이터', 1), ('기저귀', 1), ('금곡', 1), ('구축', 1), ('공모', 1), ('공고', 1), ('계해', 1), ('경우', 1), ('경기도', 1), ('개장', 1), ('사례', 1), ('음식점', 1), ('사업인', 1), ('산업', 1), ('위험', 1), ('위상', 1), ('운영', 1), ('용품', 1), ('오토바이', 1), ('연인원', 1), ('확보', 1), ('실증', 1), ('신상진', 1), ('시설', 1), ('시내', 1), ('시간', 1), ('송료', 1), ('소요', 1), ('소비자', 1), ('세트', 1), ('성장', 1), ('성남시장', 1), ('성남', 1), ('선정', 1), ('상황', 1), ('상공', 1), ('산책', 1), ('사업자', 1), ('활용', 1)]\n"
     ]
    }
   ],
   "source": [
    "import numpy as np\n",
    "\n",
    "import matplotlib.pyplot as plt\n",
    "\n",
    "vect = CountVectorizer().fit(txt2)\n",
    "\n",
    "# bow의 출현횟수 합계\n",
    "\n",
    "cnt = vect.transform(txt2).toarray().sum(axis=0)\n",
    "\n",
    "idx = np.argsort(-cnt) # 카운트 내림차순 정렬\n",
    "\n",
    "cnt = cnt[idx]\n",
    "\n",
    "# x축의 단어이름\n",
    "\n",
    "feature_name = np.array(vect.get_feature_names_out())[idx]\n",
    "\n",
    "plt.bar(range(len(cnt)), cnt)\n",
    "\n",
    "plt.show()\n",
    "\n",
    "print(list(zip(feature_name,cnt)))"
   ]
  },
  {
   "cell_type": "code",
   "execution_count": 7,
   "metadata": {},
   "outputs": [
    {
     "name": "stdout",
     "output_type": "stream",
     "text": [
      "[[ 1  1  2  1  1  1  2  1  1  4  2  1  2  1  1  1  1  1  1  3  1 16  1  1\n",
      "   2  7  2  1  1  1  1  8 11  1  1  1  1  4  1  1  1  1  1  3  1  5  1  2\n",
      "   1  5  1  1  1  1  1  1  1  1  3  1  2  1  1  1  1  1  1  1  1  2  1  3\n",
      "   1  1  1  1  1  4  1  1  1  1  1  1  2  1  1  1  1  1  1  1  1  1  3  1\n",
      "   1  1  1  1  1  1  1  1  1  2  1  1  1  2  1  4  1  1  1  1  2  1  1  2\n",
      "   1  1  1  1  1  1  1]]\n",
      "{'다음': 16, '경기도': 3, '성남시': 49, '공원': 9, '치킨': 109, '주문': 94, '드론': 21, '배달': 31, '서비스': 45, '시작': 60, '탄천': 111, '물놀이': 25, '이용': 77, '시민': 58, '편의': 116, '위해': 69, '활용': 126, '배송': 32, '유료': 71, '전국': 84, '최초': 105, '분당': 33, '금곡': 13, '임시': 79, '구미동': 10, '잔디': 81, '반려견': 27, '놀이터': 15, '중앙': 97, '거점': 2, '추가': 106, '설치': 47, '계획': 6, '국토교통부': 12, '성장': 51, '상용': 43, '표준': 119, '모델': 24, '마련': 23, '추진단': 108, '계해': 5, '진행': 102, '사업': 37, '공모': 8, '사업인': 38, '실증': 62, '도시': 18, '구축': 11, '최종': 104, '선정': 46, '추진': 107, '포함': 118, '성남': 48, '시내': 57, '도심': 19, '지난달': 99, '일제': 78, '개장': 1, '연인원': 64, '대표': 17, '자리': 80, '잡고': 82, '음식점': 73, '편의점': 117, '시설': 59, '접근성': 89, '상황': 44, '차량': 103, '오토바이': 65, '경우': 4, '산책': 41, '사고': 35, '위험': 70, '지역': 100, '하천': 122, '비행': 34, '전용': 88, '사업자': 39, '제로': 91, '홈페이지': 124, '통해': 112, '물품': 26, '정자동': 90, '주택': 95, '전시관': 87, '도착': 20, '적재': 83, '제품': 93, '상공': 42, '투하': 113, '방식': 29, '전달': 85, '소요': 54, '시간': 56, '이내': 75, '전망': 86, '품목': 120, '피자': 121, '커피': 110, '간식': 0, '음료': 72, '방수': 28, '기저귀': 14, '튜브': 114, '용품': 66, '응급처치': 74, '세트': 52, '송료': 55, '안전성': 63, '확보': 125, '지침': 101, '준수': 96, '운영': 67, '방침': 30, '신상진': 61, '성남시장': 50, '이번': 76, '소비자': 53, '지급': 98, '사례': 36, '한국': 123, '제시': 92, '산업': 40, '특별시': 115, '로서': 22, '위상': 68, '공고': 7}\n"
     ]
    }
   ],
   "source": [
    "# 불용어 추가\n",
    "\n",
    "vector = CountVectorizer(stop_words=['더'])\n",
    "\n",
    "print(vector.fit_transform(txt2).toarray())\n",
    "\n",
    "print(vector.vocabulary_)"
   ]
  }
 ],
 "metadata": {
  "kernelspec": {
   "display_name": "Python 3",
   "language": "python",
   "name": "python3"
  },
  "language_info": {
   "codemirror_mode": {
    "name": "ipython",
    "version": 3
   },
   "file_extension": ".py",
   "mimetype": "text/x-python",
   "name": "python",
   "nbconvert_exporter": "python",
   "pygments_lexer": "ipython3",
   "version": "3.12.1"
  }
 },
 "nbformat": 4,
 "nbformat_minor": 2
}
