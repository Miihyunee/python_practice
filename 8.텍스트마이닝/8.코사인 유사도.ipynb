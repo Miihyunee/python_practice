{
 "cells": [
  {
   "cell_type": "code",
   "execution_count": null,
   "metadata": {},
   "outputs": [],
   "source": [
    "# 유클리드 거리\n",
    "import numpy as np\n",
    "\n",
    "def dist(x,y):  \n",
    "    return np.sqrt(np.sum((x-y)**2))\n",
    "\n",
    "doc0 = np.array((1,1,0,1))\n",
    "doc1 = np.array((2,3,0,1))\n",
    "doc2 = np.array((1,2,3,1))\n",
    "\n",
    "print(dist(doc0,doc1)) #doc0과 doc1의 거리\n",
    "print(dist(doc0,doc2))"
   ]
  },
  {
   "cell_type": "code",
   "execution_count": null,
   "metadata": {},
   "outputs": [],
   "source": [
    "# 자카드 유사도: 두 문서의 총 단어 집합에서 공통적으로 출현한 단어의 비율\n",
    "\n",
    "doc1 = \"python 파이썬 데이터\"\n",
    "doc2 = \"빅데이터 python 파이썬\"\n",
    "\n",
    "# 토큰화\n",
    "tokenized_doc1 = doc1.split()\n",
    "tokenized_doc2 = doc2.split()\n",
    "\n",
    "print(tokenized_doc1)\n",
    "print(tokenized_doc2)"
   ]
  },
  {
   "cell_type": "code",
   "execution_count": null,
   "metadata": {},
   "outputs": [],
   "source": [
    "# 합집합\n",
    "\n",
    "union = set(tokenized_doc1).union(set(tokenized_doc2))\n",
    "\n",
    "print(union)"
   ]
  },
  {
   "cell_type": "code",
   "execution_count": null,
   "metadata": {},
   "outputs": [],
   "source": [
    "# 교집합\n",
    "\n",
    "intersection = set(tokenized_doc1).intersection(set(tokenized_doc2))\n",
    "\n",
    "print(intersection)"
   ]
  },
  {
   "cell_type": "code",
   "execution_count": null,
   "metadata": {},
   "outputs": [],
   "source": [
    "print(len(intersection)/len(union))"
   ]
  },
  {
   "cell_type": "code",
   "execution_count": null,
   "metadata": {},
   "outputs": [],
   "source": [
    "# Cosine Similarity\n",
    "# 두 벡터 간의 코사인 각도를 이용하여 구하는 두 벡터의 유사도\n",
    "# 두 벡터의 방향이 완전히 같으면 1, 90도이면 0, 반대 방향이면 -1\n",
    "# 1에 가까울수록 유사도가 높다고 판단함\n",
    "from numpy import dot\n",
    "\n",
    "a=[0,1,1]\n",
    "b=[1,0,2]\n",
    "\n",
    "# 배열의 곱( 0x1 + 1x0 + 1x2)\n",
    "dot(a,b)"
   ]
  },
  {
   "cell_type": "code",
   "execution_count": null,
   "metadata": {},
   "outputs": [],
   "source": [
    "from math import sqrt\n",
    "from numpy.linalg import norm\n",
    "\n",
    "a=[0,1,1]\n",
    "b=[1,0,2]\n",
    "\n",
    "print(norm(a)) #a의 제곱합의 제곱근\n",
    "print(sqrt(2))\n",
    "print(norm(b))\n",
    "print(sqrt(5))\n",
    "print(norm(a)*norm(b))"
   ]
  },
  {
   "cell_type": "code",
   "execution_count": null,
   "metadata": {},
   "outputs": [],
   "source": [
    "# a,b의 코사인 유사도\n",
    "\n",
    "print( dot(a,b) / (norm(a)*norm(b)))"
   ]
  },
  {
   "cell_type": "code",
   "execution_count": null,
   "metadata": {},
   "outputs": [],
   "source": [
    "def cos_sim(A, B):\n",
    "    return dot(A, B)/(norm(A)*norm(B))"
   ]
  },
  {
   "cell_type": "code",
   "execution_count": null,
   "metadata": {},
   "outputs": [],
   "source": [
    "import numpy as np\n",
    "\n",
    "doc1=np.array([0,1,1,1])\n",
    "doc2=np.array([1,0,1,1])\n",
    "doc3=np.array([2,0,2,3])\n",
    "doc4=np.array([0,2,2,2])\n",
    "\n",
    "print(cos_sim(doc1, doc2)) # 문서1과 문서2의 코사인 유사도\n",
    "print(cos_sim(doc1, doc3)) # 문서1과 문서3의 코사인 유사도\n",
    "print(cos_sim(doc2, doc3)) # 문서2과 문서3의 코사인 유사도\n",
    "print(cos_sim(doc1, doc4)) # 문서1과 문서4의 코사인 유사도\n",
    "\n",
    "# 코사인 유사도는 단순한 빈도수보다도 두 벡터의 방향이 완전히 동일한 경우에는 1(유사도가 최대)"
   ]
  },
  {
   "cell_type": "code",
   "execution_count": null,
   "metadata": {},
   "outputs": [],
   "source": [
    "from sklearn.feature_extraction.text import CountVectorizer\n",
    "\n",
    "corpus = [\n",
    " '매우 좋은 영화네요 매우 추천해요',\n",
    " '매우 볼만한 영화네요.',\n",
    " '조금 볼만한 영화네요 조금 추천해요',\n",
    " '별로 볼 내용이 없는 것 같아요 추천하지 않아요',\n",
    "]\n",
    "\n",
    "# DTM(Document Term Matrix, 문서 단어 행렬)\n",
    "\n",
    "vector = CountVectorizer()\n",
    "\n",
    "# 코퍼스로부터 각 단어의 빈도수 계산\n",
    "print(vector.fit_transform(corpus).toarray())\n",
    "print(vector.vocabulary_)"
   ]
  },
  {
   "cell_type": "code",
   "execution_count": null,
   "metadata": {},
   "outputs": [],
   "source": [
    "from sklearn.feature_extraction.text import TfidfVectorizer  \n",
    "\n",
    "tfidfv = TfidfVectorizer().fit(corpus)  \n",
    "tfidf_matrix = tfidfv.fit_transform(corpus)  \n",
    "\n",
    "print(tfidfv)  \n",
    "print(tfidfv.transform(corpus).toarray())  \n",
    "print(tfidfv.vocabulary_)"
   ]
  },
  {
   "cell_type": "code",
   "execution_count": null,
   "metadata": {},
   "outputs": [],
   "source": [
    "from sklearn.metrics.pairwise import linear_kernel  \n",
    "\n",
    "cosine_sim = linear_kernel(tfidf_matrix, tfidf_matrix)  \n",
    "cosine_sim"
   ]
  },
  {
   "cell_type": "code",
   "execution_count": null,
   "metadata": {},
   "outputs": [],
   "source": [
    "#코사인 유사도를 계산하여 줄거리가 유사한 영화 추천\n",
    "import pandas as pd\n",
    "\n",
    "#https://www.kaggle.com/rounakbanik/the-movies-dataset\n",
    "\n",
    "df = pd.read_csv('c:/data/movies/movies_metadata.csv',low_memory=False)\n",
    "df.head()\n",
    "\n",
    "# 일부 컬럼에 자료형이 혼합된 경우 메모리 사용량이 증가할 수 있으므로 low_memory=False 사용"
   ]
  },
  {
   "cell_type": "code",
   "execution_count": null,
   "metadata": {},
   "outputs": [],
   "source": [
    "df=df.head(10000) #1만개의 행으로 실습\n",
    "\n",
    "# overview(줄거리) 필드의 결측값이 있는 행의 수\n",
    "\n",
    "df['overview'].isnull().sum()"
   ]
  },
  {
   "cell_type": "code",
   "execution_count": null,
   "metadata": {},
   "outputs": [],
   "source": [
    "# 결측값을 빈값으로 채움\n",
    "\n",
    "df['overview'] = df['overview'].fillna('')\n",
    "df['overview'].isnull().sum()"
   ]
  },
  {
   "cell_type": "code",
   "execution_count": null,
   "metadata": {},
   "outputs": [],
   "source": [
    "from sklearn.feature_extraction.text import TfidfVectorizer\n",
    "\n",
    "tfidf = TfidfVectorizer(stop_words='english')\n",
    "\n",
    "# overview에 대해서 tf-idf 수행\n",
    "\n",
    "tfidf_matrix = tfidf.fit_transform(df['overview'])\n",
    "print(tfidf_matrix.shape)\n",
    "\n",
    "# 단어 개수 32350"
   ]
  },
  {
   "cell_type": "code",
   "execution_count": null,
   "metadata": {},
   "outputs": [],
   "source": [
    "for idx,value in enumerate(tfidf_matrix[0].toarray()[0]):  \n",
    "    if value>0:\n",
    "        print(idx, value)"
   ]
  },
  {
   "cell_type": "code",
   "execution_count": null,
   "metadata": {},
   "outputs": [],
   "source": [
    "from sklearn.metrics.pairwise import linear_kernel\n",
    "\n",
    "# tfidf에서는 dot product를 구하면 코사인 유사도를 얻을 수 있음\n",
    "\n",
    "cosine_sim = linear_kernel(tfidf_matrix, tfidf_matrix)\n",
    "\n",
    "linear_kernel([[1,2]],[[1,2]]) # 1x1 + 2x2"
   ]
  },
  {
   "cell_type": "code",
   "execution_count": null,
   "metadata": {},
   "outputs": [],
   "source": [
    "# 영화 제목과 인덱스, drop_duplicates() 중복값 제거\n",
    "\n",
    "indices = pd.Series(df.index, index=df['title']).drop_duplicates()\n",
    "\n",
    "print(indices.head())"
   ]
  },
  {
   "cell_type": "code",
   "execution_count": null,
   "metadata": {},
   "outputs": [],
   "source": [
    "# 영화제목을 입력하면 인덱스가 리턴됨\n",
    "\n",
    "idx = indices['Toy Story']\n",
    "idx"
   ]
  },
  {
   "cell_type": "code",
   "execution_count": null,
   "metadata": {},
   "outputs": [],
   "source": [
    "def get_recommendations(title, cosine_sim=cosine_sim):\n",
    "\n",
    "    # 영화의 제목으로 인덱스 조회\n",
    "    idx = indices[title]\n",
    "\n",
    "    # 해당 영화와의 유사도 계산\n",
    "    sim_scores = list(enumerate(cosine_sim[idx]))\n",
    "\n",
    "    # 유사도에 따라 정렬, key 정렬기준 필드(두번째값 기준 정렬), reverse 내림차순\n",
    "    sim_scores = sorted(sim_scores, key=lambda x: x[1], reverse=True)\n",
    "\n",
    "    # 가장 유사한 10개의 영화 리스트\n",
    "    sim_scores = sim_scores[1:11]\n",
    "    print(sim_scores)\n",
    "\n",
    "    # 리스트의 0번 인덱스\n",
    "    movie_indices = [i[0] for i in sim_scores]\n",
    "\n",
    "    # 가장 유사한 10개의 영화의 제목\n",
    "    return df['title'].iloc[movie_indices]"
   ]
  },
  {
   "cell_type": "code",
   "execution_count": null,
   "metadata": {},
   "outputs": [],
   "source": [
    "# 코사인 유사도를 기준으로 유사한 영화 목록 추천\n",
    "\n",
    "get_recommendations('Toy Story')"
   ]
  },
  {
   "cell_type": "code",
   "execution_count": null,
   "metadata": {},
   "outputs": [],
   "source": [
    "get_recommendations('The Show')"
   ]
  }
 ],
 "metadata": {
  "language_info": {
   "name": "python"
  }
 },
 "nbformat": 4,
 "nbformat_minor": 2
}
