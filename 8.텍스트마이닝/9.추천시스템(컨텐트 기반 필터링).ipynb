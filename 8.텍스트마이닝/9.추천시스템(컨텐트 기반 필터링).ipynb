{
 "cells": [
  {
   "cell_type": "code",
   "execution_count": null,
   "metadata": {},
   "outputs": [],
   "source": [
    "# 컨텐트 기반 필터링(Content based filtering) : 사용자가 특정 아이템을 선호하는 경우 그 아이템과 비슷한 컨텐츠를 가진 다른 아이템을 추천하는 방식\n",
    "\n",
    "import pandas as pd\n",
    "\n",
    "df = pd.read_csv('c:/data/movies/tmdb_5000_movies.csv')\n",
    "\n",
    "df.head()"
   ]
  },
  {
   "cell_type": "code",
   "execution_count": null,
   "metadata": {},
   "outputs": [],
   "source": [
    "# genres : 영화 장르\n",
    "# keywords : 영화의 키워드\n",
    "# original_language : 영화 언어\n",
    "# title : 제목\n",
    "# vote_average : 평점 평균\n",
    "# vote_count : 평점 카운트\n",
    "# popularity : 인기도\n",
    "# overview : 줄거리\n",
    "# 필요한 필드만 선택\n",
    "\n",
    "df = df[['id','genres', 'vote_average', 'vote_count','popularity','title',  \n",
    "             'keywords', 'overview']]\n",
    "\n",
    "df"
   ]
  },
  {
   "cell_type": "code",
   "execution_count": null,
   "metadata": {},
   "outputs": [],
   "source": [
    "df[['genres', 'keywords']].head()"
   ]
  },
  {
   "cell_type": "code",
   "execution_count": null,
   "metadata": {},
   "outputs": [],
   "source": [
    "dict1 = \"{'a': 3, 'b': 5}\"\n",
    "\n",
    "print(type(dict1)) #스트링\n",
    "\n",
    "#print(dict1['a']) #스트링이므로 에러가 발생함\n",
    "#print(dict1['b'])"
   ]
  },
  {
   "cell_type": "code",
   "execution_count": null,
   "metadata": {},
   "outputs": [],
   "source": [
    "dict2 = eval(dict1) #자료형을 스트링에서 딕셔너리로 변환\n",
    "\n",
    "print(type(dict2))  \n",
    "print(dict2['a'])\n",
    "print(dict2['b'])"
   ]
  },
  {
   "cell_type": "code",
   "execution_count": null,
   "metadata": {},
   "outputs": [],
   "source": [
    "# eval('문자열') - 문자열 내에 포함된 파이썬 명령어를 실행하는 함수\n",
    "df['genres'] = df['genres'].apply(eval)\n",
    "df['keywords'] = df['keywords'].apply(eval)\n",
    "\n",
    "# 딕셔너리 내부의 하위 변수들을 합쳐서 문자열 변수 1개에 저장\n",
    "\n",
    "df['genres'] = df['genres'].apply(\n",
    "    lambda x : [d['name'] for d in x]).apply(lambda x : \" \".join(x))\n",
    "\n",
    "df['keywords'] = df['keywords'].apply(\n",
    "    lambda x : [d['name'] for d in x]).apply(lambda x : \" \".join(x))"
   ]
  },
  {
   "cell_type": "code",
   "execution_count": null,
   "metadata": {},
   "outputs": [],
   "source": [
    "from sklearn.feature_extraction.text import CountVectorizer\n",
    "\n",
    "count_vector = CountVectorizer()\n",
    "\n",
    "# 장르에 대한 출현빈도 계산\n",
    "\n",
    "c_vector_genres = count_vector.fit_transform(df['genres']).toarray()\n",
    "\n",
    "c_vector_genres"
   ]
  },
  {
   "cell_type": "code",
   "execution_count": null,
   "metadata": {},
   "outputs": [],
   "source": [
    "from sklearn.metrics.pairwise import cosine_similarity\n",
    "\n",
    "# 코사인 유사도 계산\n",
    "\n",
    "genre_c_sim = cosine_similarity(c_vector_genres, c_vector_genres).argsort()[:, ::-1]\n",
    "\n",
    "cosine_similarity(c_vector_genres, c_vector_genres)[0][:30]"
   ]
  },
  {
   "cell_type": "code",
   "execution_count": null,
   "metadata": {},
   "outputs": [],
   "source": [
    "# 영화 추천 함수\n",
    "def get_recommend_movie_list(data, movie_title, top=5):\n",
    "\n",
    "    # 특정 영화 검색\n",
    "    target_movie_index = data[data['title'] == movie_title].index.values\n",
    "\n",
    "    # 코사인 유사도 상위 5행\n",
    "    sim_index = genre_c_sim[target_movie_index, :top].reshape(-1)\n",
    "\n",
    "    # 아이디가 같은 self row 제외\n",
    "    sim_index = sim_index[sim_index != target_movie_index]\n",
    "\n",
    "    # data frame으로 만들고 vote_count으로 정렬한 뒤 return\n",
    "    result = data.iloc[sim_index].sort_values('vote_average', ascending=False)[:10]\n",
    "    return result"
   ]
  },
  {
   "cell_type": "code",
   "execution_count": null,
   "metadata": {},
   "outputs": [],
   "source": [
    "df[df['title'] == 'Superman']"
   ]
  },
  {
   "cell_type": "code",
   "execution_count": null,
   "metadata": {},
   "outputs": [],
   "source": [
    "get_recommend_movie_list(df, movie_title='Superman')"
   ]
  }
 ],
 "metadata": {
  "language_info": {
   "name": "python"
  }
 },
 "nbformat": 4,
 "nbformat_minor": 2
}
