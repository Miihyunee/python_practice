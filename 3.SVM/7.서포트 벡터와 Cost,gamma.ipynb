{
 "cells": [
  {
   "cell_type": "code",
   "execution_count": null,
   "metadata": {},
   "outputs": [],
   "source": [
    "import matplotlib.pyplot as plt\n",
    "from sklearn.datasets import make_blobs\n",
    "\n",
    "# 랜덤 데이터셋, n_samples 샘플개수, centers 중심좌표, cluster_std 클러스터 표준편차\n",
    "X, y = make_blobs(n_samples=50, centers=2, random_state=0, cluster_std=0.6)\n",
    "plt.scatter(X[:, 0], X[:, 1], c=y, s=50, cmap='winter')"
   ]
  },
  {
   "cell_type": "code",
   "execution_count": null,
   "metadata": {},
   "outputs": [],
   "source": [
    "import numpy as np\n",
    "\n",
    "xfit = np.linspace(-1, 3.5, 10) # -1 ~ 3.5 10등분\n",
    "plt.scatter(X[:,0], X[:, 1], c=y, s=50, cmap='autumn')\n",
    "# X 데이터는 어느 클래스로 분류될까요?\n",
    "plt.plot([0.6], [2.1], 'x', color='red', markersize=20)\n",
    "\n",
    "# 기울기와 절편에 따라 구분선이 달라짐\n",
    "for m, b in [(1, 0.65), (0.5, 1.6), (-0.2, 2.9)]:\n",
    "    plt.plot(xfit, m*xfit + b)\n",
    "\n",
    "plt.xlim(-1, 3.5)"
   ]
  },
  {
   "cell_type": "code",
   "execution_count": null,
   "metadata": {},
   "outputs": [],
   "source": [
    "from sklearn.svm import SVC\n",
    "# 선형분류 linear, 비선형분류 rbf(기본값)\n",
    "model = SVC(kernel='linear')\n",
    "# model = SVC()\n",
    "model.fit(X, y)"
   ]
  },
  {
   "cell_type": "code",
   "execution_count": null,
   "metadata": {},
   "outputs": [],
   "source": [
    "# 서포트 벡터의 좌표값\n",
    "model.support_vectors_"
   ]
  },
  {
   "cell_type": "code",
   "execution_count": null,
   "metadata": {},
   "outputs": [],
   "source": [
    "import mglearn\n",
    "plt.scatter(X[:, 0], X[:, 1], c=y, s=50, cmap='autumn')\n",
    "plt.scatter(model.support_vectors_[:, 0], model.support_vectors_[:, 1], s=100)\n",
    "mglearn.plots.plot_2d_classification(model, X)"
   ]
  },
  {
   "cell_type": "code",
   "execution_count": null,
   "metadata": {},
   "outputs": [],
   "source": [
    "a, b = np.meshgrid([10,20], [30,40])\n",
    "# print(a)\n",
    "# print(a.ravel()) # 행렬을 1차원 배열로 만드는 함수\n",
    "# print(a.ravel().T) # 행렬전치, Transposition Arrays and Swqpping Axes\n",
    "c = np.vstack([a.ravel(), b.ravel()]).T\n",
    "# c = np.vstack([a.ravel(), b.ravel()])\n",
    "print(c)"
   ]
  },
  {
   "cell_type": "code",
   "execution_count": null,
   "metadata": {},
   "outputs": [],
   "source": [
    "# reshape 연습\n",
    "a = np.array([[10,20,30], [40,50,60]])\n",
    "\n",
    "print(a.shape)"
   ]
  }
 ],
 "metadata": {
  "language_info": {
   "name": "python"
  }
 },
 "nbformat": 4,
 "nbformat_minor": 2
}
