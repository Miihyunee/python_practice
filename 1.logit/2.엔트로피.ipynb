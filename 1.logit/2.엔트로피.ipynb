{
 "cells": [
  {
   "cell_type": "code",
   "execution_count": null,
   "metadata": {},
   "outputs": [],
   "source": [
    "# 동전 던지기\n",
    "from math import log2, ceil\n",
    "\n",
    "# 확률 50%\n",
    "p = 0.5\n",
    "\n",
    "# 이벤트 정보 계산\n",
    "h = -log2(p)\n",
    "print('확률 : ' , p)\n",
    "print('정보량 : ', h, ceil(h)) # 1bit로 표현 가능"
   ]
  },
  {
   "cell_type": "code",
   "execution_count": null,
   "metadata": {},
   "outputs": [],
   "source": [
    "# 확률이 10%라면?\n",
    "p = 0.1\n",
    "\n",
    "# 이벤트 정보 계산\n",
    "h = -log2(p)\n",
    "print('확률 : ' , p)\n",
    "print('정보량 : ', h, ceil(h)) # 4bit로 표현 가능"
   ]
  },
  {
   "cell_type": "code",
   "execution_count": null,
   "metadata": {},
   "outputs": [],
   "source": [
    "# 주사위 던지기\n",
    "from math import log2\n",
    "p = 1/6\n",
    "\n",
    "# 이벤트 정보 계산\n",
    "h = -log2(p)\n",
    "print('확률 : ' , p)\n",
    "print('정보량 : ', h, ceil(h)) # 3bit로 표현 가능"
   ]
  },
  {
   "cell_type": "code",
   "execution_count": null,
   "metadata": {},
   "outputs": [],
   "source": [
    "# 확률과 엔트로피\n",
    "import numpy as  np\n",
    "from math import log2\n",
    "from matplotlib import pyplot as plt\n",
    "\n",
    "# 확률\n",
    "probs = np.arrange(0.1, 1.1, 0.1)"
   ]
  }
 ],
 "metadata": {
  "language_info": {
   "name": "python"
  }
 },
 "nbformat": 4,
 "nbformat_minor": 2
}
