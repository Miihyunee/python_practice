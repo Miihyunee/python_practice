{
 "cells": [
  {
   "cell_type": "code",
   "execution_count": 3,
   "metadata": {},
   "outputs": [],
   "source": [
    "import numpy as np\n",
    "import joblib\n",
    "model = joblib.load('c:/data/titanic/titanic_logit.model')"
   ]
  },
  {
   "cell_type": "code",
   "execution_count": 4,
   "metadata": {},
   "outputs": [
    {
     "name": "stdout",
     "output_type": "stream",
     "text": [
      "[0]\n",
      "[1]\n",
      "[1]\n",
      "0.17219152909900112\n"
     ]
    },
    {
     "name": "stderr",
     "output_type": "stream",
     "text": [
      "c:\\python312\\Lib\\site-packages\\sklearn\\base.py:493: UserWarning: X does not have valid feature names, but LogisticRegression was fitted with feature names\n",
      "  warnings.warn(\n",
      "c:\\python312\\Lib\\site-packages\\sklearn\\base.py:493: UserWarning: X does not have valid feature names, but LogisticRegression was fitted with feature names\n",
      "  warnings.warn(\n",
      "c:\\python312\\Lib\\site-packages\\sklearn\\base.py:493: UserWarning: X does not have valid feature names, but LogisticRegression was fitted with feature names\n",
      "  warnings.warn(\n",
      "c:\\python312\\Lib\\site-packages\\sklearn\\base.py:493: UserWarning: X does not have valid feature names, but LogisticRegression was fitted with feature names\n",
      "  warnings.warn(\n"
     ]
    }
   ],
   "source": [
    "# 새로운 값 예측\n",
    "# 1등석, 2등석, 3등석, 남성, 여성, 나이, 요금, 형제자매, 부모자녀\n",
    "# np.array : 넘파이배열 : 파이썬 리스트 확장\n",
    "# reshape(n,m) : 행과 열 (마이너스 이면 샘플수 무관하다는 의미)\n",
    "\n",
    "#3등석, 남성, 19세, 형제자매1, 부모자녀0, 요금50\n",
    "person1 = np.array([0, 0, 1, 1, 0, 19, 1, 0, 50]).reshape(1,9)\n",
    "\n",
    "#1등석, 여성, 17세, 형제자매0, 부모자녀2, 요금30\n",
    "person2 = np.array([1, 0, 0, 0, 1, 17, 0, 2, 30]).reshape(1,9)\n",
    "\n",
    "#2등석, 여성, 40세, 형제자매2, 부모자녀0, 요금20\n",
    "person3 = np.array([0, 1, 0, 0, 1, 40, 2, 0, 70]).reshape(1,9)\n",
    "\n",
    "print(model.predict(person1))\n",
    "print(model.predict(person2))\n",
    "print(model.predict(person3))\n",
    "# 생존률\n",
    "rate = model.predict_proba(person1)\n",
    "print(rate[0][-1])"
   ]
  }
 ],
 "metadata": {
  "kernelspec": {
   "display_name": "Python 3",
   "language": "python",
   "name": "python3"
  },
  "language_info": {
   "codemirror_mode": {
    "name": "ipython",
    "version": 3
   },
   "file_extension": ".py",
   "mimetype": "text/x-python",
   "name": "python",
   "nbconvert_exporter": "python",
   "pygments_lexer": "ipython3",
   "version": "3.12.1"
  }
 },
 "nbformat": 4,
 "nbformat_minor": 2
}
